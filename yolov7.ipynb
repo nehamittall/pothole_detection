{
  "cells": [
    {
      "cell_type": "markdown",
      "metadata": {
        "id": "view-in-github",
        "colab_type": "text"
      },
      "source": [
        "<a href=\"https://colab.research.google.com/github/nehamittall/pothole_detection/blob/master/yolov7.ipynb\" target=\"_parent\"><img src=\"https://colab.research.google.com/assets/colab-badge.svg\" alt=\"Open In Colab\"/></a>"
      ]
    },
    {
      "cell_type": "code",
      "execution_count": null,
      "metadata": {
        "colab": {
          "base_uri": "https://localhost:8080/"
        },
        "id": "bmC5YxB5Jt1P",
        "outputId": "b109664b-fbbd-4ad2-ceee-f74a6d4f5abc"
      },
      "outputs": [
        {
          "output_type": "stream",
          "name": "stdout",
          "text": [
            "Mounted at /content/drive\n"
          ]
        }
      ],
      "source": [
        "from google.colab import drive\n",
        "drive.mount('/content/drive')"
      ]
    },
    {
      "cell_type": "code",
      "execution_count": null,
      "metadata": {
        "colab": {
          "base_uri": "https://localhost:8080/"
        },
        "id": "FBlxd0xeKUnA",
        "outputId": "00244433-87ff-4bb6-efa9-0990a570d64d"
      },
      "outputs": [
        {
          "output_type": "stream",
          "name": "stdout",
          "text": [
            "/content/drive/MyDrive/sop/yolov7\n"
          ]
        }
      ],
      "source": [
        "%cd /content/drive/MyDrive/sop/yolov7"
      ]
    },
    {
      "cell_type": "code",
      "execution_count": null,
      "metadata": {
        "colab": {
          "base_uri": "https://localhost:8080/",
          "height": 35
        },
        "id": "8CCrMOEtKnWt",
        "outputId": "0ee8654b-ec0a-47f4-a5cd-59a7598d473a"
      },
      "outputs": [
        {
          "output_type": "execute_result",
          "data": {
            "text/plain": [
              "'/content/drive/MyDrive/sop/yolov7'"
            ],
            "application/vnd.google.colaboratory.intrinsic+json": {
              "type": "string"
            }
          },
          "metadata": {},
          "execution_count": 16
        }
      ],
      "source": [
        "%pwd"
      ]
    },
    {
      "cell_type": "code",
      "source": [
        "%cd /content/drive/MyDrive/sop"
      ],
      "metadata": {
        "colab": {
          "base_uri": "https://localhost:8080/"
        },
        "id": "54t7_mnMOJ6c",
        "outputId": "e843ff99-aa02-4fd6-98d0-433fd31a0a63"
      },
      "execution_count": null,
      "outputs": [
        {
          "output_type": "stream",
          "name": "stdout",
          "text": [
            "/content/drive/MyDrive/sop\n"
          ]
        }
      ]
    },
    {
      "cell_type": "code",
      "execution_count": null,
      "metadata": {
        "colab": {
          "base_uri": "https://localhost:8080/"
        },
        "id": "I9IA5z2DKpB9",
        "outputId": "987299b6-45bc-4a75-bdca-bcdc7ca56270"
      },
      "outputs": [
        {
          "output_type": "stream",
          "name": "stdout",
          "text": [
            "fatal: destination path 'yolov7' already exists and is not an empty directory.\n"
          ]
        }
      ],
      "source": [
        "# !git clone https://github.com/WongKinYiu/yolov7.git"
      ]
    },
    {
      "cell_type": "code",
      "source": [
        "# %cp /content/drive/MyDrive/sop/yolov7_old/data/dataset.yaml /content/drive/MyDrive/sop/yolov7/data/"
      ],
      "metadata": {
        "id": "O2uirLNAOPx9"
      },
      "execution_count": null,
      "outputs": []
    },
    {
      "cell_type": "code",
      "source": [
        "# %mv /content/drive/MyDrive/sop/yolov7_old/yolov7.pt /content/drive/MyDrive/sop/yolov7/"
      ],
      "metadata": {
        "id": "uyWQPv_3Oj2G"
      },
      "execution_count": null,
      "outputs": []
    },
    {
      "cell_type": "code",
      "source": [
        "# %cd /content/drive/MyDrive/sop/yolov7"
      ],
      "metadata": {
        "colab": {
          "base_uri": "https://localhost:8080/"
        },
        "id": "Kje7D32gQHtp",
        "outputId": "6d1f700e-78f1-4606-e8b4-acea1e6e45b5"
      },
      "execution_count": null,
      "outputs": [
        {
          "output_type": "stream",
          "name": "stdout",
          "text": [
            "/content/drive/MyDrive/sop/yolov7\n"
          ]
        }
      ]
    },
    {
      "cell_type": "code",
      "source": [
        "%pwd"
      ],
      "metadata": {
        "colab": {
          "base_uri": "https://localhost:8080/",
          "height": 35
        },
        "id": "ZY_M8-HxOvXX",
        "outputId": "22bd2725-6c65-4303-aec9-3b6397d1fad0"
      },
      "execution_count": null,
      "outputs": [
        {
          "output_type": "execute_result",
          "data": {
            "text/plain": [
              "'/content/drive/MyDrive/sop'"
            ],
            "application/vnd.google.colaboratory.intrinsic+json": {
              "type": "string"
            }
          },
          "metadata": {},
          "execution_count": 6
        }
      ]
    },
    {
      "cell_type": "code",
      "execution_count": null,
      "metadata": {
        "colab": {
          "base_uri": "https://localhost:8080/"
        },
        "id": "ymrXMdX9QJtE",
        "outputId": "85e36e94-8d13-40b2-c26f-7d5105a9f54c"
      },
      "outputs": [
        {
          "output_type": "stream",
          "name": "stdout",
          "text": [
            "Looking in indexes: https://pypi.org/simple, https://us-python.pkg.dev/colab-wheels/public/simple/\n",
            "Requirement already satisfied: PyYAML==5.4.1 in /usr/local/lib/python3.7/dist-packages (5.4.1)\n"
          ]
        }
      ],
      "source": [
        "!pip install PyYAML==5.4.1"
      ]
    },
    {
      "cell_type": "code",
      "execution_count": null,
      "metadata": {
        "colab": {
          "base_uri": "https://localhost:8080/"
        },
        "id": "kbm3v-j3QfDC",
        "outputId": "1855c7e4-53fe-4d0d-fddb-82b66e62b02b"
      },
      "outputs": [
        {
          "output_type": "stream",
          "name": "stdout",
          "text": [
            "/content/drive/MyDrive/sop/four_classDataset\n"
          ]
        }
      ],
      "source": [
        "# %cd /content/drive/MyDrive/sop/four_classDataset"
      ]
    },
    {
      "cell_type": "code",
      "source": [
        "%cd /content/drive/MyDrive/sop/yolov7"
      ],
      "metadata": {
        "id": "NmIzuNlgVrmN",
        "colab": {
          "base_uri": "https://localhost:8080/"
        },
        "outputId": "b668cceb-b36f-4f51-d4eb-917aeb428989"
      },
      "execution_count": null,
      "outputs": [
        {
          "output_type": "stream",
          "name": "stdout",
          "text": [
            "/content/drive/MyDrive/sop/yolov7\n"
          ]
        }
      ]
    },
    {
      "cell_type": "code",
      "source": [
        "# !pip install roboflow\n",
        "\n",
        "# from roboflow import Roboflow\n",
        "# rf = Roboflow(api_key=\"yYXTZy54wR7i5ELjKZzR\")\n",
        "# project = rf.workspace(\"originaldataset\").project(\"pothole_hump\")\n",
        "# dataset = project.version(3).download(\"yolov7\")"
      ],
      "metadata": {
        "id": "8TORc2DbuLEE"
      },
      "execution_count": null,
      "outputs": []
    },
    {
      "cell_type": "code",
      "source": [
        "# !python train.py --img 640 640 --epochs 150 --cfg /content/drive/MyDrive/sop/yolov7/cfg/training/yolov7_custom.yaml --data data/dataset.yaml --weights 'yolov7_training.pt' --hyp data/hyp.scratch.custom.yaml  \n"
      ],
      "metadata": {
        "id": "li8MqCqvXcVX"
      },
      "execution_count": null,
      "outputs": []
    },
    {
      "cell_type": "code",
      "execution_count": null,
      "metadata": {
        "colab": {
          "base_uri": "https://localhost:8080/"
        },
        "id": "Ww3vQqR6H-IV",
        "outputId": "6403c77b-d23a-49f8-99a7-d0c6523be121"
      },
      "outputs": [
        {
          "output_type": "stream",
          "name": "stdout",
          "text": [
            "YOLOR 🚀 v0.1-112-g55b90e1 torch 1.12.1+cu113 CUDA:0 (Tesla T4, 15109.75MB)\n",
            "\n",
            "Namespace(adam=False, artifact_alias='latest', batch_size=16, bbox_interval=-1, bucket='', cache_images=False, cfg='/content/drive/MyDrive/sop/yolov7/cfg/training/yolov7_custom.yaml', data='./data/dataset.yaml', device='', entity=None, epochs=150, evolve=True, exist_ok=False, freeze=[0], global_rank=-1, hyp='/content/drive/MyDrive/sop/yolov7/data/hyp.scratch.p6.yaml', image_weights=False, img_size=[640, 640], label_smoothing=0.0, linear_lr=False, local_rank=-1, multi_scale=False, name='evolve', noautoanchor=False, nosave=False, notest=False, project='runs/train', quad=False, rect=False, resume=False, save_dir='runs/train/evolve', save_period=-1, single_cls=False, sync_bn=False, total_batch_size=16, upload_dataset=False, v5_metric=False, weights='yolov7_training.pt', workers=8, world_size=1)\n",
            "\u001b[34m\u001b[1mhyperparameters: \u001b[0mlr0=0.01, lrf=0.2, momentum=0.937, weight_decay=0.0005, warmup_epochs=3.0, warmup_momentum=0.8, warmup_bias_lr=0.1, box=0.05, cls=0.3, cls_pw=1.0, obj=0.7, obj_pw=1.0, iou_t=0.2, anchor_t=4.0, fl_gamma=0.0, hsv_h=0.015, hsv_s=0.7, hsv_v=0.4, degrees=0.0, translate=0.2, scale=0.9, shear=0.0, perspective=0.0, flipud=0.0, fliplr=0.5, mosaic=1.0, mixup=0.15, copy_paste=0.0, paste_in=0.15, loss_ota=1, anchors=3\n",
            "\u001b[34m\u001b[1mwandb: \u001b[0mInstall Weights & Biases for YOLOR logging with 'pip install wandb' (recommended)\n",
            "Overriding model.yaml anchors with anchors=3\n",
            "\n",
            "                 from  n    params  module                                  arguments                     \n",
            "  0                -1  1       928  models.common.Conv                      [3, 32, 3, 1]                 \n",
            "  1                -1  1     18560  models.common.Conv                      [32, 64, 3, 2]                \n",
            "  2                -1  1     36992  models.common.Conv                      [64, 64, 3, 1]                \n",
            "  3                -1  1     73984  models.common.Conv                      [64, 128, 3, 2]               \n",
            "  4                -1  1      8320  models.common.Conv                      [128, 64, 1, 1]               \n",
            "  5                -2  1      8320  models.common.Conv                      [128, 64, 1, 1]               \n",
            "  6                -1  1     36992  models.common.Conv                      [64, 64, 3, 1]                \n",
            "  7                -1  1     36992  models.common.Conv                      [64, 64, 3, 1]                \n",
            "  8                -1  1     36992  models.common.Conv                      [64, 64, 3, 1]                \n",
            "  9                -1  1     36992  models.common.Conv                      [64, 64, 3, 1]                \n",
            " 10  [-1, -3, -5, -6]  1         0  models.common.Concat                    [1]                           \n",
            " 11                -1  1     66048  models.common.Conv                      [256, 256, 1, 1]              \n",
            " 12                -1  1         0  models.common.MP                        []                            \n",
            " 13                -1  1     33024  models.common.Conv                      [256, 128, 1, 1]              \n",
            " 14                -3  1     33024  models.common.Conv                      [256, 128, 1, 1]              \n",
            " 15                -1  1    147712  models.common.Conv                      [128, 128, 3, 2]              \n",
            " 16          [-1, -3]  1         0  models.common.Concat                    [1]                           \n",
            " 17                -1  1     33024  models.common.Conv                      [256, 128, 1, 1]              \n",
            " 18                -2  1     33024  models.common.Conv                      [256, 128, 1, 1]              \n",
            " 19                -1  1    147712  models.common.Conv                      [128, 128, 3, 1]              \n",
            " 20                -1  1    147712  models.common.Conv                      [128, 128, 3, 1]              \n",
            " 21                -1  1    147712  models.common.Conv                      [128, 128, 3, 1]              \n",
            " 22                -1  1    147712  models.common.Conv                      [128, 128, 3, 1]              \n",
            " 23  [-1, -3, -5, -6]  1         0  models.common.Concat                    [1]                           \n",
            " 24                -1  1    263168  models.common.Conv                      [512, 512, 1, 1]              \n",
            " 25                -1  1         0  models.common.MP                        []                            \n",
            " 26                -1  1    131584  models.common.Conv                      [512, 256, 1, 1]              \n",
            " 27                -3  1    131584  models.common.Conv                      [512, 256, 1, 1]              \n",
            " 28                -1  1    590336  models.common.Conv                      [256, 256, 3, 2]              \n",
            " 29          [-1, -3]  1         0  models.common.Concat                    [1]                           \n",
            " 30                -1  1    131584  models.common.Conv                      [512, 256, 1, 1]              \n",
            " 31                -2  1    131584  models.common.Conv                      [512, 256, 1, 1]              \n",
            " 32                -1  1    590336  models.common.Conv                      [256, 256, 3, 1]              \n",
            " 33                -1  1    590336  models.common.Conv                      [256, 256, 3, 1]              \n",
            " 34                -1  1    590336  models.common.Conv                      [256, 256, 3, 1]              \n",
            " 35                -1  1    590336  models.common.Conv                      [256, 256, 3, 1]              \n",
            " 36  [-1, -3, -5, -6]  1         0  models.common.Concat                    [1]                           \n",
            " 37                -1  1   1050624  models.common.Conv                      [1024, 1024, 1, 1]            \n",
            " 38                -1  1         0  models.common.MP                        []                            \n",
            " 39                -1  1    525312  models.common.Conv                      [1024, 512, 1, 1]             \n",
            " 40                -3  1    525312  models.common.Conv                      [1024, 512, 1, 1]             \n",
            " 41                -1  1   2360320  models.common.Conv                      [512, 512, 3, 2]              \n",
            " 42          [-1, -3]  1         0  models.common.Concat                    [1]                           \n",
            " 43                -1  1    262656  models.common.Conv                      [1024, 256, 1, 1]             \n",
            " 44                -2  1    262656  models.common.Conv                      [1024, 256, 1, 1]             \n",
            " 45                -1  1    590336  models.common.Conv                      [256, 256, 3, 1]              \n",
            " 46                -1  1    590336  models.common.Conv                      [256, 256, 3, 1]              \n",
            " 47                -1  1    590336  models.common.Conv                      [256, 256, 3, 1]              \n",
            " 48                -1  1    590336  models.common.Conv                      [256, 256, 3, 1]              \n",
            " 49  [-1, -3, -5, -6]  1         0  models.common.Concat                    [1]                           \n",
            " 50                -1  1   1050624  models.common.Conv                      [1024, 1024, 1, 1]            \n",
            " 51                -1  1   7609344  models.common.SPPCSPC                   [1024, 512, 1]                \n",
            " 52                -1  1    131584  models.common.Conv                      [512, 256, 1, 1]              \n",
            " 53                -1  1         0  torch.nn.modules.upsampling.Upsample    [None, 2, 'nearest']          \n",
            " 54                37  1    262656  models.common.Conv                      [1024, 256, 1, 1]             \n",
            " 55          [-1, -2]  1         0  models.common.Concat                    [1]                           \n",
            " 56                -1  1    131584  models.common.Conv                      [512, 256, 1, 1]              \n",
            " 57                -2  1    131584  models.common.Conv                      [512, 256, 1, 1]              \n",
            " 58                -1  1    295168  models.common.Conv                      [256, 128, 3, 1]              \n",
            " 59                -1  1    147712  models.common.Conv                      [128, 128, 3, 1]              \n",
            " 60                -1  1    147712  models.common.Conv                      [128, 128, 3, 1]              \n",
            " 61                -1  1    147712  models.common.Conv                      [128, 128, 3, 1]              \n",
            " 62[-1, -2, -3, -4, -5, -6]  1         0  models.common.Concat                    [1]                           \n",
            " 63                -1  1    262656  models.common.Conv                      [1024, 256, 1, 1]             \n",
            " 64                -1  1     33024  models.common.Conv                      [256, 128, 1, 1]              \n",
            " 65                -1  1         0  torch.nn.modules.upsampling.Upsample    [None, 2, 'nearest']          \n",
            " 66                24  1     65792  models.common.Conv                      [512, 128, 1, 1]              \n",
            " 67          [-1, -2]  1         0  models.common.Concat                    [1]                           \n",
            " 68                -1  1     33024  models.common.Conv                      [256, 128, 1, 1]              \n",
            " 69                -2  1     33024  models.common.Conv                      [256, 128, 1, 1]              \n",
            " 70                -1  1     73856  models.common.Conv                      [128, 64, 3, 1]               \n",
            " 71                -1  1     36992  models.common.Conv                      [64, 64, 3, 1]                \n",
            " 72                -1  1     36992  models.common.Conv                      [64, 64, 3, 1]                \n",
            " 73                -1  1     36992  models.common.Conv                      [64, 64, 3, 1]                \n",
            " 74[-1, -2, -3, -4, -5, -6]  1         0  models.common.Concat                    [1]                           \n",
            " 75                -1  1     65792  models.common.Conv                      [512, 128, 1, 1]              \n",
            " 76                -1  1         0  models.common.MP                        []                            \n",
            " 77                -1  1     16640  models.common.Conv                      [128, 128, 1, 1]              \n",
            " 78                -3  1     16640  models.common.Conv                      [128, 128, 1, 1]              \n",
            " 79                -1  1    147712  models.common.Conv                      [128, 128, 3, 2]              \n",
            " 80      [-1, -3, 63]  1         0  models.common.Concat                    [1]                           \n",
            " 81                -1  1    131584  models.common.Conv                      [512, 256, 1, 1]              \n",
            " 82                -2  1    131584  models.common.Conv                      [512, 256, 1, 1]              \n",
            " 83                -1  1    295168  models.common.Conv                      [256, 128, 3, 1]              \n",
            " 84                -1  1    147712  models.common.Conv                      [128, 128, 3, 1]              \n",
            " 85                -1  1    147712  models.common.Conv                      [128, 128, 3, 1]              \n",
            " 86                -1  1    147712  models.common.Conv                      [128, 128, 3, 1]              \n",
            " 87[-1, -2, -3, -4, -5, -6]  1         0  models.common.Concat                    [1]                           \n",
            " 88                -1  1    262656  models.common.Conv                      [1024, 256, 1, 1]             \n",
            " 89                -1  1         0  models.common.MP                        []                            \n",
            " 90                -1  1     66048  models.common.Conv                      [256, 256, 1, 1]              \n",
            " 91                -3  1     66048  models.common.Conv                      [256, 256, 1, 1]              \n",
            " 92                -1  1    590336  models.common.Conv                      [256, 256, 3, 2]              \n",
            " 93      [-1, -3, 51]  1         0  models.common.Concat                    [1]                           \n",
            " 94                -1  1    525312  models.common.Conv                      [1024, 512, 1, 1]             \n",
            " 95                -2  1    525312  models.common.Conv                      [1024, 512, 1, 1]             \n",
            " 96                -1  1   1180160  models.common.Conv                      [512, 256, 3, 1]              \n",
            " 97                -1  1    590336  models.common.Conv                      [256, 256, 3, 1]              \n",
            " 98                -1  1    590336  models.common.Conv                      [256, 256, 3, 1]              \n",
            " 99                -1  1    590336  models.common.Conv                      [256, 256, 3, 1]              \n",
            "100[-1, -2, -3, -4, -5, -6]  1         0  models.common.Concat                    [1]                           \n",
            "101                -1  1   1049600  models.common.Conv                      [2048, 512, 1, 1]             \n",
            "102                75  1    328704  models.common.RepConv                   [128, 256, 3, 1]              \n",
            "103                88  1   1312768  models.common.RepConv                   [256, 512, 3, 1]              \n",
            "104               101  1   5246976  models.common.RepConv                   [512, 1024, 3, 1]             \n",
            "105   [102, 103, 104]  1     50338  models.yolo.IDetect                     [4, [[0, 1, 2, 3, 4, 5], [0, 1, 2, 3, 4, 5], [0, 1, 2, 3, 4, 5]], [256, 512, 1024]]\n",
            "Model Summary: 415 layers, 37212738 parameters, 37212738 gradients\n",
            "\n",
            "Transferred 555/566 items from yolov7_training.pt\n",
            "Scaled weight_decay = 0.0005\n",
            "Optimizer groups: 95 .bias, 95 conv.weight, 98 other\n",
            "\u001b[34m\u001b[1mtrain: \u001b[0mScanning '/content/drive/MyDrive/sop/four_classDataset/pothole_hump-3/train/labels.cache' images and labels... 792 found, 0 missing, 0 empty, 0 corrupted: 100% 792/792 [00:00<?, ?it/s]\n",
            "\u001b[34m\u001b[1mval: \u001b[0mScanning '/content/drive/MyDrive/sop/four_classDataset/pothole_hump-3/valid/labels.cache' images and labels... 225 found, 0 missing, 1 empty, 0 corrupted: 100% 225/225 [00:00<?, ?it/s]\n",
            "\n",
            "\u001b[34m\u001b[1mautoanchor: \u001b[0mAnalyzing anchors... anchors/target = 0.00, Best Possible Recall (BPR) = 0.0010. Attempting to improve anchors, please wait...\n",
            "\u001b[34m\u001b[1mautoanchor: \u001b[0mWARNING: Extremely small objects found. 1 of 1971 labels are < 3 pixels in size.\n",
            "\u001b[34m\u001b[1mautoanchor: \u001b[0mRunning kmeans for 9 anchors on 1971 points...\n",
            "\u001b[34m\u001b[1mautoanchor: \u001b[0mthr=0.25: 0.9934 best possible recall, 4.36 anchors past thr\n",
            "\u001b[34m\u001b[1mautoanchor: \u001b[0mn=9, img_size=640, metric_all=0.298/0.681-mean/best, past_thr=0.471-mean: 39,36,  103,57,  71,105,  387,32,  198,106,  586,49,  166,188,  384,262,  365,449\n",
            "\u001b[34m\u001b[1mautoanchor: \u001b[0mEvolving anchors with Genetic Algorithm: fitness = 0.7133: 100% 1000/1000 [00:01<00:00, 751.68it/s]\n",
            "\u001b[34m\u001b[1mautoanchor: \u001b[0mthr=0.25: 0.9985 best possible recall, 4.43 anchors past thr\n",
            "\u001b[34m\u001b[1mautoanchor: \u001b[0mn=9, img_size=640, metric_all=0.308/0.714-mean/best, past_thr=0.486-mean: 26,39,  62,33,  81,70,  502,23,  137,94,  172,142,  483,52,  276,204,  402,321\n",
            "\u001b[34m\u001b[1mautoanchor: \u001b[0mNew anchors saved to model. Update model *.yaml to use these anchors in the future.\n",
            "\n",
            "Image sizes 640 train, 640 test\n",
            "Using 2 dataloader workers\n",
            "Logging results to runs/train/evolve\n",
            "Starting training for 150 epochs...\n",
            "\n",
            "     Epoch   gpu_mem       box       obj       cls     total    labels  img_size\n",
            "     0/149     7.95G   0.06873         1   0.03126       1.1        28       640: 100% 50/50 [01:15<00:00,  1.51s/it]\n",
            "\n",
            "     Epoch   gpu_mem       box       obj       cls     total    labels  img_size\n",
            "     1/149     10.8G   0.07109    0.0604    0.0312    0.1627        21       640: 100% 50/50 [00:46<00:00,  1.08it/s]\n",
            "\n",
            "     Epoch   gpu_mem       box       obj       cls     total    labels  img_size\n",
            "     2/149     10.8G   0.07228   0.01492   0.03108    0.1183        22       640: 100% 50/50 [00:45<00:00,  1.09it/s]\n",
            "\n",
            "     Epoch   gpu_mem       box       obj       cls     total    labels  img_size\n",
            "     3/149     10.8G   0.07014   0.01016   0.03089    0.1112        39       640: 100% 50/50 [00:45<00:00,  1.10it/s]\n",
            "\n",
            "     Epoch   gpu_mem       box       obj       cls     total    labels  img_size\n",
            "     4/149     10.8G   0.06605   0.00872   0.03034    0.1051        54       640: 100% 50/50 [00:45<00:00,  1.10it/s]\n",
            "\n",
            "     Epoch   gpu_mem       box       obj       cls     total    labels  img_size\n",
            "     5/149     10.8G   0.05851  0.008506    0.0299   0.09692        41       640: 100% 50/50 [00:45<00:00,  1.11it/s]\n",
            "\n",
            "     Epoch   gpu_mem       box       obj       cls     total    labels  img_size\n",
            "     6/149     10.8G   0.05177  0.009204   0.02828   0.08926        40       640: 100% 50/50 [00:46<00:00,  1.09it/s]\n",
            "\n",
            "     Epoch   gpu_mem       box       obj       cls     total    labels  img_size\n",
            "     7/149     10.8G   0.04887  0.009242    0.0251   0.08322        43       640: 100% 50/50 [00:45<00:00,  1.10it/s]\n",
            "\n",
            "     Epoch   gpu_mem       box       obj       cls     total    labels  img_size\n",
            "     8/149     10.8G   0.04676  0.008976   0.02021   0.07594        28       640: 100% 50/50 [00:45<00:00,  1.10it/s]\n",
            "\n",
            "     Epoch   gpu_mem       box       obj       cls     total    labels  img_size\n",
            "     9/149     10.8G   0.04591  0.008484   0.01623   0.07063        19       640: 100% 50/50 [00:45<00:00,  1.11it/s]\n",
            "\n",
            "     Epoch   gpu_mem       box       obj       cls     total    labels  img_size\n",
            "    10/149     10.8G   0.04623  0.008275   0.01227   0.06677        37       640: 100% 50/50 [00:45<00:00,  1.11it/s]\n",
            "\n",
            "     Epoch   gpu_mem       box       obj       cls     total    labels  img_size\n",
            "    11/149     10.8G   0.04482  0.008492  0.009536   0.06285        32       640: 100% 50/50 [00:44<00:00,  1.12it/s]\n",
            "\n",
            "     Epoch   gpu_mem       box       obj       cls     total    labels  img_size\n",
            "    12/149     10.8G   0.04492  0.008541  0.007025   0.06049        26       640: 100% 50/50 [00:45<00:00,  1.10it/s]\n",
            "\n",
            "     Epoch   gpu_mem       box       obj       cls     total    labels  img_size\n",
            "    13/149     10.8G   0.04315  0.008948     0.006    0.0581        44       640: 100% 50/50 [00:45<00:00,  1.09it/s]\n",
            "\n",
            "     Epoch   gpu_mem       box       obj       cls     total    labels  img_size\n",
            "    14/149     10.8G   0.04299  0.008915  0.004571   0.05647        38       640: 100% 50/50 [00:45<00:00,  1.09it/s]\n",
            "\n",
            "     Epoch   gpu_mem       box       obj       cls     total    labels  img_size\n",
            "    15/149     10.8G    0.0428  0.008641  0.004482   0.05593        35       640: 100% 50/50 [00:45<00:00,  1.10it/s]\n",
            "\n",
            "     Epoch   gpu_mem       box       obj       cls     total    labels  img_size\n",
            "    16/149     10.8G   0.04306  0.008891  0.004026   0.05598        27       640: 100% 50/50 [00:45<00:00,  1.11it/s]\n",
            "\n",
            "     Epoch   gpu_mem       box       obj       cls     total    labels  img_size\n",
            "    17/149     10.8G   0.04339  0.008594  0.004069   0.05605        20       640: 100% 50/50 [00:44<00:00,  1.12it/s]\n",
            "\n",
            "     Epoch   gpu_mem       box       obj       cls     total    labels  img_size\n",
            "    18/149     10.8G   0.04389  0.008801  0.004378   0.05707        20       640: 100% 50/50 [00:45<00:00,  1.10it/s]\n",
            "\n",
            "     Epoch   gpu_mem       box       obj       cls     total    labels  img_size\n",
            "    19/149     10.8G   0.04295  0.009302  0.004278   0.05653        34       640: 100% 50/50 [00:45<00:00,  1.11it/s]\n",
            "\n",
            "     Epoch   gpu_mem       box       obj       cls     total    labels  img_size\n",
            "    20/149     10.8G   0.04268  0.009389  0.004308   0.05638        71       640: 100% 50/50 [00:44<00:00,  1.12it/s]\n",
            "\n",
            "     Epoch   gpu_mem       box       obj       cls     total    labels  img_size\n",
            "    21/149     10.8G   0.04282  0.009174  0.003751   0.05574        52       640: 100% 50/50 [00:45<00:00,  1.10it/s]\n",
            "\n",
            "     Epoch   gpu_mem       box       obj       cls     total    labels  img_size\n",
            "    22/149     10.8G   0.04302  0.009143  0.002878   0.05504        25       640: 100% 50/50 [00:46<00:00,  1.08it/s]\n",
            "\n",
            "     Epoch   gpu_mem       box       obj       cls     total    labels  img_size\n",
            "    23/149     10.8G   0.04178  0.009148  0.003172    0.0541        24       640: 100% 50/50 [00:46<00:00,  1.08it/s]\n",
            "\n",
            "     Epoch   gpu_mem       box       obj       cls     total    labels  img_size\n",
            "    24/149     10.8G   0.04072  0.009021  0.003292   0.05303        31       640: 100% 50/50 [00:45<00:00,  1.10it/s]\n",
            "\n",
            "     Epoch   gpu_mem       box       obj       cls     total    labels  img_size\n",
            "    25/149     10.8G   0.04144  0.008878   0.00345   0.05377        45       640: 100% 50/50 [00:45<00:00,  1.11it/s]\n",
            "\n",
            "     Epoch   gpu_mem       box       obj       cls     total    labels  img_size\n",
            "    26/149     10.8G   0.04055  0.009267  0.003023   0.05284        17       640: 100% 50/50 [00:45<00:00,  1.10it/s]\n",
            "\n",
            "     Epoch   gpu_mem       box       obj       cls     total    labels  img_size\n",
            "    27/149     10.8G   0.04065  0.008745  0.003064   0.05246        51       640: 100% 50/50 [00:45<00:00,  1.09it/s]\n",
            "\n",
            "     Epoch   gpu_mem       box       obj       cls     total    labels  img_size\n",
            "    28/149     10.8G   0.03929  0.009089  0.003044   0.05142        32       640: 100% 50/50 [00:45<00:00,  1.10it/s]\n",
            "\n",
            "     Epoch   gpu_mem       box       obj       cls     total    labels  img_size\n",
            "    29/149     10.8G   0.03873  0.009244  0.003155   0.05113        59       640: 100% 50/50 [00:45<00:00,  1.10it/s]\n",
            "\n",
            "     Epoch   gpu_mem       box       obj       cls     total    labels  img_size\n",
            "    30/149     10.8G   0.03906  0.008803    0.0025   0.05036        44       640: 100% 50/50 [00:45<00:00,  1.11it/s]\n",
            "\n",
            "     Epoch   gpu_mem       box       obj       cls     total    labels  img_size\n",
            "    31/149     10.8G   0.03822  0.008933  0.002495   0.04965        29       640: 100% 50/50 [00:45<00:00,  1.10it/s]\n",
            "\n",
            "     Epoch   gpu_mem       box       obj       cls     total    labels  img_size\n",
            "    32/149     10.8G   0.03869  0.008543  0.002391   0.04962        24       640: 100% 50/50 [00:44<00:00,  1.12it/s]\n",
            "\n",
            "     Epoch   gpu_mem       box       obj       cls     total    labels  img_size\n",
            "    33/149     10.8G   0.03742  0.009047  0.002499   0.04897        44       640: 100% 50/50 [00:45<00:00,  1.10it/s]\n",
            "\n",
            "     Epoch   gpu_mem       box       obj       cls     total    labels  img_size\n",
            "    34/149     10.8G   0.03736   0.00873  0.002426   0.04852        20       640: 100% 50/50 [00:44<00:00,  1.11it/s]\n",
            "\n",
            "     Epoch   gpu_mem       box       obj       cls     total    labels  img_size\n",
            "    35/149     10.8G   0.03636  0.008433  0.002099   0.04689        29       640: 100% 50/50 [00:45<00:00,  1.10it/s]\n",
            "\n",
            "     Epoch   gpu_mem       box       obj       cls     total    labels  img_size\n",
            "    36/149     10.8G   0.03723  0.009009   0.00236    0.0486        25       640: 100% 50/50 [00:45<00:00,  1.09it/s]\n",
            "\n",
            "     Epoch   gpu_mem       box       obj       cls     total    labels  img_size\n",
            "    37/149     10.8G   0.03685  0.008847  0.002389   0.04808        40       640: 100% 50/50 [00:45<00:00,  1.11it/s]\n",
            "\n",
            "     Epoch   gpu_mem       box       obj       cls     total    labels  img_size\n",
            "    38/149     10.8G   0.03663  0.008756  0.002037   0.04743        26       640: 100% 50/50 [00:45<00:00,  1.09it/s]\n",
            "\n",
            "     Epoch   gpu_mem       box       obj       cls     total    labels  img_size\n",
            "    39/149     10.8G   0.03578  0.008665  0.001951    0.0464        35       640: 100% 50/50 [00:44<00:00,  1.12it/s]\n",
            "\n",
            "     Epoch   gpu_mem       box       obj       cls     total    labels  img_size\n",
            "    40/149     10.8G   0.03552  0.008841  0.002272   0.04663        45       640: 100% 50/50 [00:44<00:00,  1.11it/s]\n",
            "\n",
            "     Epoch   gpu_mem       box       obj       cls     total    labels  img_size\n",
            "    41/149     10.8G   0.03528  0.008434  0.001582   0.04529        23       640: 100% 50/50 [00:44<00:00,  1.11it/s]\n",
            "\n",
            "     Epoch   gpu_mem       box       obj       cls     total    labels  img_size\n",
            "    42/149     10.8G   0.03563  0.008586  0.002126   0.04634        44       640: 100% 50/50 [00:45<00:00,  1.10it/s]\n",
            "\n",
            "     Epoch   gpu_mem       box       obj       cls     total    labels  img_size\n",
            "    43/149     10.8G   0.03473  0.008415   0.00185   0.04499        40       640: 100% 50/50 [00:45<00:00,  1.09it/s]\n",
            "\n",
            "     Epoch   gpu_mem       box       obj       cls     total    labels  img_size\n",
            "    44/149     10.8G   0.03595  0.008214  0.002156   0.04632        24       640: 100% 50/50 [00:45<00:00,  1.10it/s]\n",
            "\n",
            "     Epoch   gpu_mem       box       obj       cls     total    labels  img_size\n",
            "    45/149     10.8G   0.03511  0.008534  0.001845   0.04549        74       640: 100% 50/50 [00:45<00:00,  1.10it/s]\n",
            "\n",
            "     Epoch   gpu_mem       box       obj       cls     total    labels  img_size\n",
            "    46/149     10.8G   0.03509   0.00842  0.001881   0.04539        41       640: 100% 50/50 [00:44<00:00,  1.11it/s]\n",
            "\n",
            "     Epoch   gpu_mem       box       obj       cls     total    labels  img_size\n",
            "    47/149     10.8G   0.03418   0.00828  0.001656   0.04411        19       640: 100% 50/50 [00:45<00:00,  1.11it/s]\n",
            "\n",
            "     Epoch   gpu_mem       box       obj       cls     total    labels  img_size\n",
            "    48/149     10.8G   0.03507  0.008035  0.001973   0.04508        50       640: 100% 50/50 [00:44<00:00,  1.12it/s]\n",
            "\n",
            "     Epoch   gpu_mem       box       obj       cls     total    labels  img_size\n",
            "    49/149     10.8G   0.03386  0.008348  0.002134   0.04434        19       640: 100% 50/50 [00:44<00:00,  1.11it/s]\n",
            "\n",
            "     Epoch   gpu_mem       box       obj       cls     total    labels  img_size\n",
            "    50/149     10.8G   0.03423  0.008321  0.001693   0.04424        40       640: 100% 50/50 [00:45<00:00,  1.10it/s]\n",
            "\n",
            "     Epoch   gpu_mem       box       obj       cls     total    labels  img_size\n",
            "    51/149     10.8G   0.03355  0.008437  0.001741   0.04373        39       640: 100% 50/50 [00:44<00:00,  1.12it/s]\n",
            "\n",
            "     Epoch   gpu_mem       box       obj       cls     total    labels  img_size\n",
            "    52/149     10.8G    0.0336   0.00793  0.001633   0.04317        32       640: 100% 50/50 [00:45<00:00,  1.11it/s]\n",
            "\n",
            "     Epoch   gpu_mem       box       obj       cls     total    labels  img_size\n",
            "    53/149     10.8G   0.03331  0.008016  0.001811   0.04313        54       640: 100% 50/50 [00:45<00:00,  1.11it/s]\n",
            "\n",
            "     Epoch   gpu_mem       box       obj       cls     total    labels  img_size\n",
            "    54/149     10.8G   0.03351  0.008328  0.001753   0.04359        29       640: 100% 50/50 [00:45<00:00,  1.11it/s]\n",
            "\n",
            "     Epoch   gpu_mem       box       obj       cls     total    labels  img_size\n",
            "    55/149     10.8G   0.03235  0.008137  0.001743   0.04223        37       640: 100% 50/50 [00:46<00:00,  1.08it/s]\n",
            "\n",
            "     Epoch   gpu_mem       box       obj       cls     total    labels  img_size\n",
            "    56/149     10.8G   0.03234  0.007661  0.001528   0.04153        17       640: 100% 50/50 [00:47<00:00,  1.05it/s]\n",
            "\n",
            "     Epoch   gpu_mem       box       obj       cls     total    labels  img_size\n",
            "    57/149     10.8G   0.03248  0.007877  0.001366   0.04172        39       640: 100% 50/50 [00:47<00:00,  1.06it/s]\n",
            "\n",
            "     Epoch   gpu_mem       box       obj       cls     total    labels  img_size\n",
            "    58/149     10.8G   0.03298  0.008133  0.001769   0.04288        36       640: 100% 50/50 [00:47<00:00,  1.06it/s]\n",
            "\n",
            "     Epoch   gpu_mem       box       obj       cls     total    labels  img_size\n",
            "    59/149     10.8G   0.03164  0.007861  0.001368   0.04087        38       640: 100% 50/50 [00:46<00:00,  1.08it/s]\n",
            "\n",
            "     Epoch   gpu_mem       box       obj       cls     total    labels  img_size\n",
            "    60/149     10.8G   0.03265  0.007954   0.00179   0.04239        30       640: 100% 50/50 [00:46<00:00,  1.09it/s]\n",
            "\n",
            "     Epoch   gpu_mem       box       obj       cls     total    labels  img_size\n",
            "    61/149     10.8G   0.03124  0.007896  0.001202   0.04034        34       640: 100% 50/50 [00:46<00:00,  1.08it/s]\n",
            "\n",
            "     Epoch   gpu_mem       box       obj       cls     total    labels  img_size\n",
            "    62/149     10.8G   0.03234   0.00789  0.001666    0.0419        27       640: 100% 50/50 [00:46<00:00,  1.07it/s]\n",
            "\n",
            "     Epoch   gpu_mem       box       obj       cls     total    labels  img_size\n",
            "    63/149     10.8G   0.03177  0.007757  0.001478     0.041        34       640: 100% 50/50 [00:45<00:00,  1.09it/s]\n",
            "\n",
            "     Epoch   gpu_mem       box       obj       cls     total    labels  img_size\n",
            "    64/149     10.8G   0.03163  0.008107  0.001626   0.04136        22       640: 100% 50/50 [00:46<00:00,  1.08it/s]\n",
            "\n",
            "     Epoch   gpu_mem       box       obj       cls     total    labels  img_size\n",
            "    65/149     10.8G   0.03214  0.008248  0.001691   0.04208        46       640: 100% 50/50 [00:46<00:00,  1.09it/s]\n",
            "\n",
            "     Epoch   gpu_mem       box       obj       cls     total    labels  img_size\n",
            "    66/149     10.8G   0.03098  0.007588  0.001359   0.03992        43       640: 100% 50/50 [00:46<00:00,  1.08it/s]\n",
            "\n",
            "     Epoch   gpu_mem       box       obj       cls     total    labels  img_size\n",
            "    67/149     10.8G   0.03139  0.008037  0.001209   0.04064        45       640: 100% 50/50 [00:46<00:00,  1.08it/s]\n",
            "\n",
            "     Epoch   gpu_mem       box       obj       cls     total    labels  img_size\n",
            "    68/149     10.8G   0.03135  0.007993  0.001486   0.04083        44       640: 100% 50/50 [00:47<00:00,  1.06it/s]\n",
            "\n",
            "     Epoch   gpu_mem       box       obj       cls     total    labels  img_size\n",
            "    69/149     10.8G    0.0306   0.00765  0.001384   0.03964        16       640: 100% 50/50 [00:45<00:00,  1.10it/s]\n",
            "\n",
            "     Epoch   gpu_mem       box       obj       cls     total    labels  img_size\n",
            "    70/149     10.8G   0.03114  0.007884  0.001395   0.04042        20       640: 100% 50/50 [00:46<00:00,  1.07it/s]\n",
            "\n",
            "     Epoch   gpu_mem       box       obj       cls     total    labels  img_size\n",
            "    71/149     10.8G   0.03029  0.007844  0.001154   0.03929        51       640: 100% 50/50 [00:46<00:00,  1.08it/s]\n",
            "\n",
            "     Epoch   gpu_mem       box       obj       cls     total    labels  img_size\n",
            "    72/149     10.8G   0.03078  0.007632  0.001212   0.03963        28       640: 100% 50/50 [00:46<00:00,  1.08it/s]\n",
            "\n",
            "     Epoch   gpu_mem       box       obj       cls     total    labels  img_size\n",
            "    73/149     10.8G   0.03012  0.007464   0.00125   0.03884        25       640: 100% 50/50 [00:45<00:00,  1.09it/s]\n",
            "\n",
            "     Epoch   gpu_mem       box       obj       cls     total    labels  img_size\n",
            "    74/149     10.8G   0.02982  0.007786   0.00133   0.03894        39       640: 100% 50/50 [00:46<00:00,  1.09it/s]\n",
            "\n",
            "     Epoch   gpu_mem       box       obj       cls     total    labels  img_size\n",
            "    75/149     10.8G   0.02938  0.007474   0.00106   0.03792        40       640: 100% 50/50 [00:46<00:00,  1.08it/s]\n",
            "\n",
            "     Epoch   gpu_mem       box       obj       cls     total    labels  img_size\n",
            "    76/149     10.8G   0.02922  0.007678  0.001028   0.03793        30       640: 100% 50/50 [00:46<00:00,  1.08it/s]\n",
            "\n",
            "     Epoch   gpu_mem       box       obj       cls     total    labels  img_size\n",
            "    77/149     10.8G    0.0292  0.007491  0.001211    0.0379        17       640: 100% 50/50 [00:45<00:00,  1.09it/s]\n",
            "\n",
            "     Epoch   gpu_mem       box       obj       cls     total    labels  img_size\n",
            "    78/149     10.8G   0.02872  0.007143 0.0009978   0.03686        33       640: 100% 50/50 [00:46<00:00,  1.07it/s]\n",
            "\n",
            "     Epoch   gpu_mem       box       obj       cls     total    labels  img_size\n",
            "    79/149     10.8G   0.02919   0.00759  0.001302   0.03808        19       640: 100% 50/50 [00:45<00:00,  1.09it/s]\n",
            "\n",
            "     Epoch   gpu_mem       box       obj       cls     total    labels  img_size\n",
            "    80/149     10.8G   0.02991  0.007733  0.001444   0.03909        40       640: 100% 50/50 [00:46<00:00,  1.08it/s]\n",
            "\n",
            "     Epoch   gpu_mem       box       obj       cls     total    labels  img_size\n",
            "    81/149     10.8G   0.02913  0.007248  0.001194   0.03757        27       640: 100% 50/50 [00:46<00:00,  1.08it/s]\n",
            "\n",
            "     Epoch   gpu_mem       box       obj       cls     total    labels  img_size\n",
            "    82/149     10.8G   0.02898  0.007453  0.001118   0.03755        28       640: 100% 50/50 [00:46<00:00,  1.09it/s]\n",
            "\n",
            "     Epoch   gpu_mem       box       obj       cls     total    labels  img_size\n",
            "    83/149     10.8G   0.02813  0.007186 0.0009521   0.03627        46       640: 100% 50/50 [00:46<00:00,  1.09it/s]\n",
            "\n",
            "     Epoch   gpu_mem       box       obj       cls     total    labels  img_size\n",
            "    84/149     10.8G   0.02833  0.007293 0.0008934   0.03652        14       640: 100% 50/50 [00:46<00:00,  1.08it/s]\n",
            "\n",
            "     Epoch   gpu_mem       box       obj       cls     total    labels  img_size\n",
            "    85/149     10.8G   0.02777  0.007219  0.001189   0.03618        46       640: 100% 50/50 [00:45<00:00,  1.09it/s]\n",
            "\n",
            "     Epoch   gpu_mem       box       obj       cls     total    labels  img_size\n",
            "    86/149     10.8G   0.02761  0.007353 0.0008746   0.03584        25       640: 100% 50/50 [00:46<00:00,  1.08it/s]\n",
            "\n",
            "     Epoch   gpu_mem       box       obj       cls     total    labels  img_size\n",
            "    87/149     10.8G   0.02836   0.00722  0.001372   0.03695        31       640: 100% 50/50 [00:46<00:00,  1.08it/s]\n",
            "\n",
            "     Epoch   gpu_mem       box       obj       cls     total    labels  img_size\n",
            "    88/149     10.8G   0.02789  0.007736  0.001322   0.03695        26       640: 100% 50/50 [00:46<00:00,  1.07it/s]\n",
            "\n",
            "     Epoch   gpu_mem       box       obj       cls     total    labels  img_size\n",
            "    89/149     10.8G    0.0277  0.007602  0.001084   0.03639        35       640: 100% 50/50 [00:46<00:00,  1.09it/s]\n",
            "\n",
            "     Epoch   gpu_mem       box       obj       cls     total    labels  img_size\n",
            "    90/149     10.8G   0.02763   0.00723  0.001048   0.03591        27       640: 100% 50/50 [00:45<00:00,  1.09it/s]\n",
            "\n",
            "     Epoch   gpu_mem       box       obj       cls     total    labels  img_size\n",
            "    91/149     10.8G   0.02755   0.00709  0.001156    0.0358        22       640: 100% 50/50 [00:45<00:00,  1.10it/s]\n",
            "\n",
            "     Epoch   gpu_mem       box       obj       cls     total    labels  img_size\n",
            "    92/149     10.8G   0.02723  0.007025  0.001016   0.03527        44       640: 100% 50/50 [00:45<00:00,  1.09it/s]\n",
            "\n",
            "     Epoch   gpu_mem       box       obj       cls     total    labels  img_size\n",
            "    93/149     10.8G   0.02708   0.00707 0.0009045   0.03505        48       640: 100% 50/50 [00:45<00:00,  1.09it/s]\n",
            "\n",
            "     Epoch   gpu_mem       box       obj       cls     total    labels  img_size\n",
            "    94/149     10.8G   0.02752  0.007576   0.00105   0.03615        44       640: 100% 50/50 [00:46<00:00,  1.08it/s]\n",
            "\n",
            "     Epoch   gpu_mem       box       obj       cls     total    labels  img_size\n",
            "    95/149     10.8G     0.027  0.007075 0.0009321   0.03501        50       640: 100% 50/50 [00:46<00:00,  1.08it/s]\n",
            "\n",
            "     Epoch   gpu_mem       box       obj       cls     total    labels  img_size\n",
            "    96/149     10.8G   0.02667  0.007053  0.001022   0.03475        40       640: 100% 50/50 [00:45<00:00,  1.11it/s]\n",
            "\n",
            "     Epoch   gpu_mem       box       obj       cls     total    labels  img_size\n",
            "    97/149     10.8G   0.02686  0.007029  0.001261   0.03515        45       640: 100% 50/50 [00:46<00:00,  1.09it/s]\n",
            "\n",
            "     Epoch   gpu_mem       box       obj       cls     total    labels  img_size\n",
            "    98/149     10.8G   0.02616  0.007056  0.001287    0.0345        53       640: 100% 50/50 [00:45<00:00,  1.10it/s]\n",
            "\n",
            "     Epoch   gpu_mem       box       obj       cls     total    labels  img_size\n",
            "    99/149     10.8G   0.02647  0.007307 0.0008663   0.03465        40       640: 100% 50/50 [00:46<00:00,  1.08it/s]\n",
            "\n",
            "     Epoch   gpu_mem       box       obj       cls     total    labels  img_size\n",
            "   100/149     10.8G   0.02615  0.007086  0.001037   0.03427        39       640: 100% 50/50 [00:45<00:00,  1.09it/s]\n",
            "\n",
            "     Epoch   gpu_mem       box       obj       cls     total    labels  img_size\n",
            "   101/149     10.8G   0.02602  0.007113 0.0008644   0.03399        22       640: 100% 50/50 [00:45<00:00,  1.10it/s]\n",
            "\n",
            "     Epoch   gpu_mem       box       obj       cls     total    labels  img_size\n",
            "   102/149     10.8G   0.02588  0.006947 0.0008763   0.03371        38       640: 100% 50/50 [00:46<00:00,  1.09it/s]\n",
            "\n",
            "     Epoch   gpu_mem       box       obj       cls     total    labels  img_size\n",
            "   103/149     10.8G     0.026   0.00676 0.0008752   0.03364        50       640: 100% 50/50 [00:45<00:00,  1.10it/s]\n",
            "\n",
            "     Epoch   gpu_mem       box       obj       cls     total    labels  img_size\n",
            "   104/149     10.8G   0.02556  0.007143 0.0009316   0.03363        39       640: 100% 50/50 [00:46<00:00,  1.08it/s]\n",
            "\n",
            "     Epoch   gpu_mem       box       obj       cls     total    labels  img_size\n",
            "   105/149     10.8G   0.02582  0.007177  0.001114   0.03411        35       640: 100% 50/50 [00:46<00:00,  1.08it/s]\n",
            "\n",
            "     Epoch   gpu_mem       box       obj       cls     total    labels  img_size\n",
            "   106/149     10.8G   0.02506  0.006851 0.0008331   0.03275        29       640: 100% 50/50 [00:45<00:00,  1.09it/s]\n",
            "\n",
            "     Epoch   gpu_mem       box       obj       cls     total    labels  img_size\n",
            "   107/149     10.8G   0.02531  0.007068  0.000927   0.03331        49       640: 100% 50/50 [00:45<00:00,  1.09it/s]\n",
            "\n",
            "     Epoch   gpu_mem       box       obj       cls     total    labels  img_size\n",
            "   108/149     10.8G   0.02569  0.007317  0.001191    0.0342        47       640: 100% 50/50 [00:46<00:00,  1.08it/s]\n",
            "\n",
            "     Epoch   gpu_mem       box       obj       cls     total    labels  img_size\n",
            "   109/149     10.8G   0.02567  0.007268  0.001066   0.03401        30       640: 100% 50/50 [00:45<00:00,  1.09it/s]\n",
            "\n",
            "     Epoch   gpu_mem       box       obj       cls     total    labels  img_size\n",
            "   110/149     10.8G   0.02571  0.006861  0.001029    0.0336        43       640: 100% 50/50 [00:45<00:00,  1.09it/s]\n",
            "\n",
            "     Epoch   gpu_mem       box       obj       cls     total    labels  img_size\n",
            "   111/149     10.8G   0.02563  0.006407 0.0008864   0.03293        28       640: 100% 50/50 [00:45<00:00,  1.10it/s]\n",
            "\n",
            "     Epoch   gpu_mem       box       obj       cls     total    labels  img_size\n",
            "   112/149     10.8G   0.02512  0.006814 0.0007624    0.0327        61       640: 100% 50/50 [00:45<00:00,  1.10it/s]\n",
            "\n",
            "     Epoch   gpu_mem       box       obj       cls     total    labels  img_size\n",
            "   113/149     10.8G   0.02472  0.006736 0.0008676   0.03232        34       640: 100% 50/50 [00:45<00:00,  1.09it/s]\n",
            "\n",
            "     Epoch   gpu_mem       box       obj       cls     total    labels  img_size\n",
            "   114/149     10.8G   0.02489  0.006834 0.0009589   0.03269        40       640: 100% 50/50 [00:46<00:00,  1.08it/s]\n",
            "\n",
            "     Epoch   gpu_mem       box       obj       cls     total    labels  img_size\n",
            "   115/149     10.8G   0.02465  0.006607 0.0008004   0.03205        23       640: 100% 50/50 [00:46<00:00,  1.08it/s]\n",
            "\n",
            "     Epoch   gpu_mem       box       obj       cls     total    labels  img_size\n",
            "   116/149     10.8G   0.02422  0.006617 0.0008714   0.03171        44       640: 100% 50/50 [00:46<00:00,  1.08it/s]\n",
            "\n",
            "     Epoch   gpu_mem       box       obj       cls     total    labels  img_size\n",
            "   117/149     10.8G   0.02477  0.006504 0.0008199    0.0321        41       640: 100% 50/50 [00:45<00:00,  1.10it/s]\n",
            "\n",
            "     Epoch   gpu_mem       box       obj       cls     total    labels  img_size\n",
            "   118/149     10.8G   0.02418  0.006565 0.0009806   0.03172        52       640: 100% 50/50 [00:45<00:00,  1.10it/s]\n",
            "\n",
            "     Epoch   gpu_mem       box       obj       cls     total    labels  img_size\n",
            "   119/149     10.8G   0.02443  0.006898 0.0008723    0.0322        43       640: 100% 50/50 [00:46<00:00,  1.08it/s]\n",
            "\n",
            "     Epoch   gpu_mem       box       obj       cls     total    labels  img_size\n",
            "   120/149     10.8G     0.024  0.006653 0.0008873   0.03154        25       640: 100% 50/50 [00:46<00:00,  1.08it/s]\n",
            "\n",
            "     Epoch   gpu_mem       box       obj       cls     total    labels  img_size\n",
            "   121/149     10.8G    0.0237  0.006304 0.0008213   0.03082        35       640: 100% 50/50 [00:46<00:00,  1.09it/s]\n",
            "\n",
            "     Epoch   gpu_mem       box       obj       cls     total    labels  img_size\n",
            "   122/149     10.8G    0.0238  0.006772 0.0008257    0.0314        33       640: 100% 50/50 [00:45<00:00,  1.09it/s]\n",
            "\n",
            "     Epoch   gpu_mem       box       obj       cls     total    labels  img_size\n",
            "   123/149     10.8G    0.0237  0.006639 0.0008164   0.03115        38       640: 100% 50/50 [00:46<00:00,  1.08it/s]\n",
            "\n",
            "     Epoch   gpu_mem       box       obj       cls     total    labels  img_size\n",
            "   124/149     10.8G   0.02417  0.006559  0.000879   0.03161        30       640: 100% 50/50 [00:45<00:00,  1.09it/s]\n",
            "\n",
            "     Epoch   gpu_mem       box       obj       cls     total    labels  img_size\n",
            "   125/149     10.8G   0.02341   0.00653 0.0007219   0.03066        42       640: 100% 50/50 [00:45<00:00,  1.10it/s]\n",
            "\n",
            "     Epoch   gpu_mem       box       obj       cls     total    labels  img_size\n",
            "   126/149     10.8G   0.02317  0.006833 0.0008898   0.03089        24       640: 100% 50/50 [00:45<00:00,  1.10it/s]\n",
            "\n",
            "     Epoch   gpu_mem       box       obj       cls     total    labels  img_size\n",
            "   127/149     10.8G    0.0242   0.00657 0.0009261   0.03169        43       640: 100% 50/50 [00:45<00:00,  1.09it/s]\n",
            "\n",
            "     Epoch   gpu_mem       box       obj       cls     total    labels  img_size\n",
            "   128/149     10.8G    0.0237  0.006142 0.0008274   0.03067        26       640: 100% 50/50 [00:45<00:00,  1.10it/s]\n",
            "\n",
            "     Epoch   gpu_mem       box       obj       cls     total    labels  img_size\n",
            "   129/149     10.8G   0.02294  0.005957 0.0009463   0.02984        35       640: 100% 50/50 [00:45<00:00,  1.11it/s]\n",
            "\n",
            "     Epoch   gpu_mem       box       obj       cls     total    labels  img_size\n",
            "   130/149     10.8G   0.02333  0.006453  0.000703   0.03048        30       640: 100% 50/50 [00:45<00:00,  1.09it/s]\n",
            "\n",
            "     Epoch   gpu_mem       box       obj       cls     total    labels  img_size\n",
            "   131/149     10.8G   0.02348   0.00696  0.000911   0.03135        36       640: 100% 50/50 [00:46<00:00,  1.08it/s]\n",
            "\n",
            "     Epoch   gpu_mem       box       obj       cls     total    labels  img_size\n",
            "   132/149     10.8G   0.02289  0.006186 0.0006898   0.02976        34       640: 100% 50/50 [00:46<00:00,  1.08it/s]\n",
            "\n",
            "     Epoch   gpu_mem       box       obj       cls     total    labels  img_size\n",
            "   133/149     10.8G   0.02258  0.006395 0.0006027   0.02958        52       640: 100% 50/50 [00:45<00:00,  1.10it/s]\n",
            "\n",
            "     Epoch   gpu_mem       box       obj       cls     total    labels  img_size\n",
            "   134/149     10.8G   0.02291  0.006739 0.0008395   0.03049        38       640: 100% 50/50 [00:46<00:00,  1.08it/s]\n",
            "\n",
            "     Epoch   gpu_mem       box       obj       cls     total    labels  img_size\n",
            "   135/149     10.8G    0.0229  0.006096 0.0006791   0.02968        54       640: 100% 50/50 [00:45<00:00,  1.11it/s]\n",
            "\n",
            "     Epoch   gpu_mem       box       obj       cls     total    labels  img_size\n",
            "   136/149     10.8G   0.02252  0.006401 0.0009427   0.02986        65       640: 100% 50/50 [00:45<00:00,  1.10it/s]\n",
            "\n",
            "     Epoch   gpu_mem       box       obj       cls     total    labels  img_size\n",
            "   137/149     10.8G    0.0224  0.006254 0.0009108   0.02956        23       640: 100% 50/50 [00:45<00:00,  1.11it/s]\n",
            "\n",
            "     Epoch   gpu_mem       box       obj       cls     total    labels  img_size\n",
            "   138/149     10.8G    0.0223  0.006408 0.0006983   0.02941        33       640: 100% 50/50 [00:45<00:00,  1.09it/s]\n",
            "\n",
            "     Epoch   gpu_mem       box       obj       cls     total    labels  img_size\n",
            "   139/149     10.8G   0.02251  0.006541 0.0006437    0.0297        41       640: 100% 50/50 [00:46<00:00,  1.09it/s]\n",
            "\n",
            "     Epoch   gpu_mem       box       obj       cls     total    labels  img_size\n",
            "   140/149     10.8G   0.02176  0.006267 0.0006659   0.02869        35       640: 100% 50/50 [00:46<00:00,  1.08it/s]\n",
            "\n",
            "     Epoch   gpu_mem       box       obj       cls     total    labels  img_size\n",
            "   141/149     10.8G   0.02181  0.006316 0.0006358   0.02876        53       640: 100% 50/50 [00:45<00:00,  1.09it/s]\n",
            "\n",
            "     Epoch   gpu_mem       box       obj       cls     total    labels  img_size\n",
            "   142/149     10.8G   0.02116   0.00617 0.0009173   0.02825        33       640: 100% 50/50 [00:45<00:00,  1.09it/s]\n",
            "\n",
            "     Epoch   gpu_mem       box       obj       cls     total    labels  img_size\n",
            "   143/149     10.8G   0.02267  0.006516 0.0008327   0.03002        35       640: 100% 50/50 [00:46<00:00,  1.07it/s]\n",
            "\n",
            "     Epoch   gpu_mem       box       obj       cls     total    labels  img_size\n",
            "   144/149     10.8G    0.0224  0.006307 0.0008658   0.02957        40       640: 100% 50/50 [00:45<00:00,  1.10it/s]\n",
            "\n",
            "     Epoch   gpu_mem       box       obj       cls     total    labels  img_size\n",
            "   145/149     10.8G   0.02181  0.006448 0.0007381   0.02899        18       640: 100% 50/50 [00:45<00:00,  1.09it/s]\n",
            "\n",
            "     Epoch   gpu_mem       box       obj       cls     total    labels  img_size\n",
            "   146/149     10.8G   0.02215  0.006547 0.0007551   0.02945        31       640: 100% 50/50 [00:45<00:00,  1.09it/s]\n",
            "\n",
            "     Epoch   gpu_mem       box       obj       cls     total    labels  img_size\n",
            "   147/149     10.8G   0.02197  0.006193 0.0007048   0.02887        19       640: 100% 50/50 [00:46<00:00,  1.09it/s]\n",
            "\n",
            "     Epoch   gpu_mem       box       obj       cls     total    labels  img_size\n",
            "   148/149     10.8G   0.02142  0.006026 0.0006635   0.02811        30       640: 100% 50/50 [00:46<00:00,  1.08it/s]\n",
            "\n",
            "     Epoch   gpu_mem       box       obj       cls     total    labels  img_size\n",
            "   149/149     10.8G   0.02173  0.006211 0.0007274   0.02867        59       640: 100% 50/50 [00:46<00:00,  1.09it/s]\n",
            "               Class      Images      Labels           P           R      mAP@.5  mAP@.5:.95:   0% 0/8 [00:00<?, ?it/s]/usr/local/lib/python3.7/dist-packages/torch/functional.py:478: UserWarning: torch.meshgrid: in an upcoming release, it will be required to pass the indexing argument. (Triggered internally at  ../aten/src/ATen/native/TensorShape.cpp:2894.)\n",
            "  return _VF.meshgrid(tensors, **kwargs)  # type: ignore[attr-defined]\n",
            "               Class      Images      Labels           P           R      mAP@.5  mAP@.5:.95: 100% 8/8 [00:39<00:00,  4.99s/it]\n",
            "                 all         225         601       0.807       0.716       0.787       0.426\n",
            "               human         225          90       0.662       0.689       0.659       0.316\n",
            "                hump         225          95       0.951       0.621       0.839       0.476\n",
            "             pothole         225         288       0.752       0.719       0.776       0.354\n",
            "             vehicle         225         128       0.862       0.836       0.874       0.557\n",
            "150 epochs completed in 1.928 hours.\n",
            "\n",
            "\n",
            "       lr0       lrf  momentumweight_decaywarmup_epochswarmup_momentumwarmup_bias_lr       box       cls    cls_pw       obj    obj_pw     iou_t  anchor_t  fl_gamma     hsv_h     hsv_s     hsv_v   degrees translate     scale     shearperspective    flipud    fliplr    mosaic     mixupcopy_paste  paste_in  loss_ota   anchors\n",
            "      0.01       0.2     0.937    0.0005         3       0.8       0.1      0.05       0.3         1       0.7         1       0.2         4         0     0.015       0.7       0.4         0       0.2       0.9         0         0         0       0.5         1      0.15         0      0.15         1         3\n",
            "Evolved fitness:     0.8067    0.7162    0.7869     0.426   0.04265   0.01716  0.002549\n",
            "\n",
            "Traceback (most recent call last):\n",
            "  File \"train.py\", line 688, in <module>\n",
            "    hyp[k] = float(x[i + 7] * v[i])  # mutate\n",
            "IndexError: index 30 is out of bounds for axis 0 with size 30\n"
          ]
        }
      ],
      "source": [
        "!python train.py --batch-size 16 --epochs 150 --evolve --data dataset.yaml --img 640 640 --cfg /content/drive/MyDrive/sop/yolov7/cfg/training/yolov7_custom.yaml --weights yolov7_training.pt --name yolov7 --hyp /content/drive/MyDrive/sop/yolov7/data/hyp.scratch.p6.yaml --evolve\n"
      ]
    },
    {
      "cell_type": "code",
      "execution_count": null,
      "metadata": {
        "id": "m7_tETQSXqyQ"
      },
      "outputs": [],
      "source": [
        "!python detect.py --weights runs/train/yolov7/weights/best.pt --conf 0.25 --img-size 640 --source /content/drive/MyDrive/sop/four_classDataset/pothole_hump-3/test/images"
      ]
    },
    {
      "cell_type": "code",
      "execution_count": null,
      "metadata": {
        "id": "7lDM6Q4bNH6Z"
      },
      "outputs": [],
      "source": [
        "# %cd yolov7/weights"
      ]
    },
    {
      "cell_type": "code",
      "execution_count": null,
      "metadata": {
        "id": "mjmCEAyrNSw7"
      },
      "outputs": [],
      "source": [
        "# !wget https://github.com/WongKinYiu/yolov7/releases/download/v0.1/yolov7.pt "
      ]
    }
  ],
  "metadata": {
    "accelerator": "GPU",
    "colab": {
      "provenance": [],
      "collapsed_sections": [],
      "authorship_tag": "ABX9TyPPVDZE9TZ+DYkmxc3XFqK+",
      "include_colab_link": true
    },
    "gpuClass": "standard",
    "kernelspec": {
      "display_name": "Python 3",
      "name": "python3"
    },
    "language_info": {
      "name": "python"
    }
  },
  "nbformat": 4,
  "nbformat_minor": 0
}